{
  "nbformat": 4,
  "nbformat_minor": 0,
  "metadata": {
    "colab": {
      "provenance": []
    },
    "kernelspec": {
      "name": "python3",
      "display_name": "Python 3"
    },
    "language_info": {
      "name": "python"
    }
  },
  "cells": [
    {
      "cell_type": "markdown",
      "source": [
        "#***This is a step by step basic level WebScraping project meant as a PROOF OF CONCEPT and that I know how to use it ***\n",
        "\n",
        "\n"
      ],
      "metadata": {
        "id": "zCMxE6DaVS5t"
      }
    },
    {
      "cell_type": "markdown",
      "source": [
        "Steps of this Project\n",
        "\n",
        "*   first I just went to Amazon.in as I am looking to buy a monitor i thought of creating this project  and found the Moniters Data i wanted to scrape then i just copied the div class , image class , price ,title etc using the inspect option .[link text](https://www.amazon.in/s?k=monitor&i=electronics&crid=1CBTKYN0HHOSJ&sprefix=monitor%2Celectronics%2C273&ref=nb_sb_noss_2)\n",
        "*   Then i Downloaded the web page and uploaded it to my google colab notebok\n",
        "* The next step was the code i imported all the packages and wrote a loop that could extract all the Data that i Needed.\n",
        "* At the end i wrote a code that could save the Data in csv or excel format for further Analysis.\n"
      ],
      "metadata": {
        "id": "GBK3RszQJRCS"
      }
    },
    {
      "cell_type": "code",
      "source": [
        "#class=\"sg-col-20-of-24 s-result-item s-asin sg-col-0-of-12 sg-col-16-of-20 AdHolder sg-col s-widget-spacing-small sg-col-12-of-16\""
      ],
      "metadata": {
        "id": "CUtfFfrtzjej"
      },
      "execution_count": null,
      "outputs": []
    },
    {
      "cell_type": "code",
      "source": [
        "# img class=\"s-image\""
      ],
      "metadata": {
        "id": "QmwEDNPCzjin"
      },
      "execution_count": null,
      "outputs": []
    },
    {
      "cell_type": "code",
      "source": [
        "# class=\"a-size-medium a-color-base a-text-normal\""
      ],
      "metadata": {
        "id": "c-o6x_Vr1sj0"
      },
      "execution_count": null,
      "outputs": []
    },
    {
      "cell_type": "code",
      "source": [
        "#span class=\"a-price-whole\""
      ],
      "metadata": {
        "id": "cqoxMMoSzjm0"
      },
      "execution_count": null,
      "outputs": []
    },
    {
      "cell_type": "code",
      "source": [
        "#class=\"a-icon-alt\""
      ],
      "metadata": {
        "id": "9Dt6VpQPzjpU"
      },
      "execution_count": null,
      "outputs": []
    },
    {
      "cell_type": "code",
      "source": [
        "from bs4 import BeautifulSoup\n",
        "import pandas as pd\n",
        "import numpy as np\n",
        "import seaborn as sns\n",
        "\n",
        "\n",
        "file_path = \"/content/Amazon.in _ monitor.html\"\n",
        "\n",
        "# Read the HTML file\n",
        "with open(file_path, \"r\", encoding=\"utf-8\") as file:\n",
        "    html_content = file.read()\n",
        "\n",
        "# Parse the HTML content with BeautifulSoup\n",
        "soup = BeautifulSoup(html_content, 'html.parser')\n",
        "\n",
        "# Find all div elements with the specified class\n",
        "divs = soup.find_all('div', class_='sg-col-20-of-24 s-result-item s-asin sg-col-0-of-12 sg-col-16-of-20 AdHolder sg-col s-widget-spacing-small sg-col-12-of-16')\n",
        "\n",
        "# Create a list to store the extracted data\n",
        "data_list = []\n",
        "\n",
        "# Loop through each div to extract img, span, and price information\n",
        "for div in divs:\n",
        "    # Find img with class=\"s-image\"\n",
        "    img_tag = div.find('img', class_='s-image')\n",
        "    link = img_tag['src'] if img_tag else ''\n",
        "\n",
        "    # Find span with class=\"a-size-medium a-color-base a-text-normal\"\n",
        "    span_title = div.find('span', class_='a-size-medium a-color-base a-text-normal')\n",
        "    title = span_title.text.strip() if span_title else ''\n",
        "\n",
        "    # Find span with class=\"a-icon-alt\"\n",
        "    span_rating = div.find('span', class_='a-icon-alt')\n",
        "    rating = span_rating.text.strip() if span_rating else ''\n",
        "\n",
        "    # Find span with class=\"a-price-whole\" for price\n",
        "    span_price = div.find('span', class_='a-price-whole')\n",
        "    price = span_price.text.strip() if span_price else ''\n",
        "\n",
        "    # Append the data to the list\n",
        "    data_list.append({\n",
        "        \"link\": link,\n",
        "        \"title\": title,\n",
        "        \"rating\": rating,\n",
        "        \"price\": price\n",
        "    })\n",
        "\n",
        "# Print the extracted data\n",
        "for data in data_list:\n",
        "    print(\"Link:\", data[\"link\"])\n",
        "    print(\"Title:\", data[\"title\"])\n",
        "    print(\"Rating:\", data[\"rating\"])\n",
        "    print(\"Price:\", data[\"price\"])\n",
        "    print(\"------\")\n",
        "\n"
      ],
      "metadata": {
        "colab": {
          "base_uri": "https://localhost:8080/"
        },
        "id": "hIxHFSyHzjuY",
        "outputId": "5fcc881d-ee76-404a-a4d7-312586bac3d1"
      },
      "execution_count": 1,
      "outputs": [
        {
          "output_type": "stream",
          "name": "stdout",
          "text": [
            "Link: ./Amazon.in _ monitor_files/61VdlGdSwuL._AC_UY218_.jpg\n",
            "Title: ZEBRONICS 24 Inch (60.4 Cm) Widescreen 1920 X 1080 Pixels LED Monitor, IPS, Ultra Slim, FHD 1920x1080, HDMI, VGA, 250nits, Built in Speaker, Wall mountable, 75hz ZEB-A24FHD, Black\n",
            "Rating: 3.7 out of 5 stars\n",
            "Price: 7,999\n",
            "------\n",
            "Link: ./Amazon.in _ monitor_files/81hRO0TUa+L._AC_UY218_.jpg\n",
            "Title: Dell-S2721HNM (68.96 cm) FHD Monitor 1920 x 1080 @75Hz, Minimalistic Design, IPS Panel, Brightness: 300 cd/m², Colour Gamut: 99% sRGB, Response Time: 4ms Extreme, 4ms, 5 Year Warranty Weight: 5.09 Kg.\n",
            "Rating: 4.4 out of 5 stars\n",
            "Price: 14,278\n",
            "------\n",
            "Link: ./Amazon.in _ monitor_files/6103DnamOXL._AC_UY218_.jpg\n",
            "Title: ZEBRONICS Zeb-V16HD LED Monitor with15.4 with Supporting HDMI, has VGA Input, HD 1280 x 800, Glossy Panel, Slim Feature and Wall mountable.\n",
            "Rating: 3.6 out of 5 stars\n",
            "Price: 3,299\n",
            "------\n",
            "Link: ./Amazon.in _ monitor_files/61CNZJSH-FL._AC_UY218_.jpg\n",
            "Title: PHILIPS Brilliance 499P9H1/94 49-inch Curved SuperWide Dual QHD LCD Display with Pop-Up Webcam with Windows Hello\n",
            "Rating: \n",
            "Price: 90,692\n",
            "------\n",
            "Link: ./Amazon.in _ monitor_files/71r07rY2wcL._AC_UY218_.jpg\n",
            "Title: Lenovo Q-Series 24 Inch (60.5Cm) 1920x1080 Pixels FHD IPS Monitor | Height Adjustment, 2X3W Speakers, 75Hz, AMD FreeSync, HDMI, DP, Smart Display Customization, Raven Black\n",
            "Rating: 4.4 out of 5 stars\n",
            "Price: 12,749\n",
            "------\n",
            "Link: ./Amazon.in _ monitor_files/813Y1TIZwfL._AC_UY218_.jpg\n",
            "Title: ZEBRONICS AC32FHD LED Curved 75Hz 80Cm (32\") (81.28 Cm) 1920x1080 Pixels FHD Resolution Monitor with HDMI + VGA Dual Input, Built-in Speaker, Max 250 Nits Brightness, Black\n",
            "Rating: 3.8 out of 5 stars\n",
            "Price: 12,999\n",
            "------\n"
          ]
        }
      ]
    },
    {
      "cell_type": "code",
      "source": [
        "# # Convert the data_list to a Pandas DataFrame\n",
        "# df = pd.DataFrame(data_list)\n",
        "\n",
        "# # Save the DataFrame as an Excel file named \"data.xlsx\"\n",
        "# df.to_excel(\"data.xlsx\", index=False)\n",
        "\n",
        "# print(\"Data extraction and saving to Excel completed.\")"
      ],
      "metadata": {
        "id": "BYwtivrmzjwq"
      },
      "execution_count": null,
      "outputs": []
    },
    {
      "cell_type": "code",
      "source": [],
      "metadata": {
        "id": "szaOxr6Vzj5Z"
      },
      "execution_count": null,
      "outputs": []
    },
    {
      "cell_type": "code",
      "source": [],
      "metadata": {
        "id": "i_AyiNEczkAA"
      },
      "execution_count": null,
      "outputs": []
    },
    {
      "cell_type": "code",
      "source": [],
      "metadata": {
        "id": "bGln_F_HzkDE"
      },
      "execution_count": null,
      "outputs": []
    },
    {
      "cell_type": "code",
      "source": [],
      "metadata": {
        "id": "7fZvyCaXzkIQ"
      },
      "execution_count": null,
      "outputs": []
    },
    {
      "cell_type": "code",
      "source": [],
      "metadata": {
        "id": "bJWlz7yszkLp"
      },
      "execution_count": null,
      "outputs": []
    },
    {
      "cell_type": "code",
      "source": [],
      "metadata": {
        "id": "n0455S5e0vlO"
      },
      "execution_count": null,
      "outputs": []
    },
    {
      "cell_type": "code",
      "source": [],
      "metadata": {
        "id": "-_HJUDEp0vzA"
      },
      "execution_count": null,
      "outputs": []
    },
    {
      "cell_type": "code",
      "source": [],
      "metadata": {
        "id": "ONLmuuHF0v7x"
      },
      "execution_count": null,
      "outputs": []
    }
  ]
}